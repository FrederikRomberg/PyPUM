{
 "cells": [
  {
   "attachments": {},
   "cell_type": "markdown",
   "metadata": {},
   "source": [
    "## The np.einsum() function\n",
    "\n",
    "Before we get into the modelling, we introduce numpy's 'einsum' function since we'll often be relying on it's practicality and elegance in the ensuing sections. The 'einsum' function takes three mandatory arguments. Firstly, it takes (at least) two numpy arrays, say $a$ and $b$. These may be of any dimension. Secondly, it takes a string of 'subscripts' which corresponds to axes the of $a$, $b$, an 'explicit indicator' i.e. the symbol'->', and the axes of the output. E.g. if $a$ and $b$ are $2\\times 3$- and $3\\times 1$ matrices, respectively, then the subscript 'nj,jk->nk' corresponds to computing the matrix product $ab$. 'einsum' is also capable of computing various other linear algebraic operations such as transposes, outer products, elementwise products, etc.\n",
    "\n",
    "In the following, we include some examples of 'einsum'-functions functionality with the hope of claryfying our model implementation."
   ]
  },
  {
   "cell_type": "code",
   "execution_count": 1,
   "metadata": {},
   "outputs": [],
   "source": [
    "import numpy as np\n",
    "import pandas as pd "
   ]
  },
  {
   "attachments": {},
   "cell_type": "markdown",
   "metadata": {},
   "source": [
    "Firstly, we define some numpy.array objects on which to operate."
   ]
  },
  {
   "cell_type": "code",
   "execution_count": 2,
   "metadata": {},
   "outputs": [
    {
     "data": {
      "text/html": [
       "<div>\n",
       "<style scoped>\n",
       "    .dataframe tbody tr th:only-of-type {\n",
       "        vertical-align: middle;\n",
       "    }\n",
       "\n",
       "    .dataframe tbody tr th {\n",
       "        vertical-align: top;\n",
       "    }\n",
       "\n",
       "    .dataframe thead th {\n",
       "        text-align: right;\n",
       "    }\n",
       "</style>\n",
       "<table border=\"1\" class=\"dataframe\">\n",
       "  <thead>\n",
       "    <tr style=\"text-align: right;\">\n",
       "      <th></th>\n",
       "      <th>A</th>\n",
       "      <th>B</th>\n",
       "      <th>C</th>\n",
       "    </tr>\n",
       "  </thead>\n",
       "  <tbody>\n",
       "    <tr>\n",
       "      <th>0</th>\n",
       "      <td>(2, 3)</td>\n",
       "      <td>(2, 3, 2)</td>\n",
       "      <td>(2,)</td>\n",
       "    </tr>\n",
       "  </tbody>\n",
       "</table>\n",
       "</div>"
      ],
      "text/plain": [
       "        A          B     C\n",
       "0  (2, 3)  (2, 3, 2)  (2,)"
      ]
     },
     "execution_count": 2,
     "metadata": {},
     "output_type": "execute_result"
    }
   ],
   "source": [
    "A = np.array([[1,2,3], [4,5,6]])\n",
    "B = np.array([[[1,2], [3,4], [5,6]], [[11,12], [13,14] ,[15,16]]])\n",
    "C = np.array([1,2])\n",
    "\n",
    "pd.DataFrame({name : [X.shape] for name, X in zip(['A', 'B', 'C'], [A, B, C])}) # dimensions and axes lengths of arrays"
   ]
  },
  {
   "attachments": {},
   "cell_type": "markdown",
   "metadata": {},
   "source": [
    "As mentioned we may we compute ordinary matrix products using einsum in the following way"
   ]
  },
  {
   "cell_type": "code",
   "execution_count": 3,
   "metadata": {},
   "outputs": [
    {
     "data": {
      "text/plain": [
       "array([[[  9,  12,  15],\n",
       "        [ 19,  26,  33],\n",
       "        [ 29,  40,  51]],\n",
       "\n",
       "       [[ 59,  82, 105],\n",
       "        [ 69,  96, 123],\n",
       "        [ 79, 110, 141]]])"
      ]
     },
     "execution_count": 3,
     "metadata": {},
     "output_type": "execute_result"
    }
   ],
   "source": [
    "np.einsum('njk,ki->nji', B, A) # Is equivalent to B @ A"
   ]
  },
  {
   "attachments": {},
   "cell_type": "markdown",
   "metadata": {},
   "source": [
    "'einsum' is also capable of transposing matrices 'on the fly' when doing operations. Consider for example the following modifcation of the above matrix product"
   ]
  },
  {
   "cell_type": "code",
   "execution_count": 4,
   "metadata": {},
   "outputs": [
    {
     "data": {
      "text/plain": [
       "array([[[  9,  12,  15],\n",
       "        [ 19,  26,  33],\n",
       "        [ 29,  40,  51]],\n",
       "\n",
       "       [[ 59,  82, 105],\n",
       "        [ 69,  96, 123],\n",
       "        [ 79, 110, 141]]])"
      ]
     },
     "execution_count": 4,
     "metadata": {},
     "output_type": "execute_result"
    }
   ],
   "source": [
    "np.einsum('ki,njk->nji', A, B) # Is equivalent to np.transpose(A) @ np.transpose(B)"
   ]
  },
  {
   "attachments": {},
   "cell_type": "markdown",
   "metadata": {},
   "source": [
    "We can also easily calculate outer products"
   ]
  },
  {
   "cell_type": "code",
   "execution_count": 5,
   "metadata": {},
   "outputs": [
    {
     "data": {
      "text/plain": [
       "array([[1, 2],\n",
       "       [2, 4]])"
      ]
     },
     "execution_count": 5,
     "metadata": {},
     "output_type": "execute_result"
    }
   ],
   "source": [
    "np.einsum('j,i->ji', C, C)"
   ]
  },
  {
   "attachments": {},
   "cell_type": "markdown",
   "metadata": {},
   "source": [
    "And this also possible for multi dimensional matrices..."
   ]
  },
  {
   "cell_type": "code",
   "execution_count": 6,
   "metadata": {},
   "outputs": [
    {
     "data": {
      "text/plain": [
       "array([[[[ 1,  2],\n",
       "         [ 2,  4]],\n",
       "\n",
       "        [[ 3,  6],\n",
       "         [ 4,  8]],\n",
       "\n",
       "        [[ 5, 10],\n",
       "         [ 6, 12]]],\n",
       "\n",
       "\n",
       "       [[[11, 22],\n",
       "         [12, 24]],\n",
       "\n",
       "        [[13, 26],\n",
       "         [14, 28]],\n",
       "\n",
       "        [[15, 30],\n",
       "         [16, 32]]]])"
      ]
     },
     "execution_count": 6,
     "metadata": {},
     "output_type": "execute_result"
    }
   ],
   "source": [
    "np.einsum('njk,i->njki', B, C)"
   ]
  },
  {
   "attachments": {},
   "cell_type": "markdown",
   "metadata": {},
   "source": [
    "Furthermore, we may compute elementwise products"
   ]
  },
  {
   "cell_type": "code",
   "execution_count": 7,
   "metadata": {},
   "outputs": [
    {
     "data": {
      "text/plain": [
       "array([[ 1,  4,  9],\n",
       "       [16, 25, 36]])"
      ]
     },
     "execution_count": 7,
     "metadata": {},
     "output_type": "execute_result"
    }
   ],
   "source": [
    "np.einsum('nj,nj->nj', A, A)"
   ]
  },
  {
   "attachments": {},
   "cell_type": "markdown",
   "metadata": {},
   "source": [
    "Which may also be done on multidimensional matrices of different dimensions"
   ]
  },
  {
   "cell_type": "code",
   "execution_count": 8,
   "metadata": {},
   "outputs": [
    {
     "data": {
      "text/plain": [
       "array([[[ 1,  2],\n",
       "        [ 6,  8],\n",
       "        [15, 18]],\n",
       "\n",
       "       [[44, 48],\n",
       "        [65, 70],\n",
       "        [90, 96]]])"
      ]
     },
     "execution_count": 8,
     "metadata": {},
     "output_type": "execute_result"
    }
   ],
   "source": [
    "np.einsum('njk,nj->njk', B, A) # This computation can also be achieved by B*A[:,:,None]. Note that 'einsum' permutes/transposes/matches the dimensions of B and A before computing the product. "
   ]
  },
  {
   "attachments": {},
   "cell_type": "markdown",
   "metadata": {},
   "source": [
    "Lastly, 'einsum' can also do operations involving more than two numpy array. For example, the following code outputs a matrix product"
   ]
  },
  {
   "cell_type": "code",
   "execution_count": 11,
   "metadata": {},
   "outputs": [
    {
     "data": {
      "text/plain": [
       "array([[ 134,  184,  234],\n",
       "       [1055, 1468, 1881]])"
      ]
     },
     "execution_count": 11,
     "metadata": {},
     "output_type": "execute_result"
    }
   ],
   "source": [
    "np.einsum('nj,njk,ki->ni', A, B, A)  "
   ]
  }
 ],
 "metadata": {
  "kernelspec": {
   "display_name": "base",
   "language": "python",
   "name": "python3"
  },
  "language_info": {
   "codemirror_mode": {
    "name": "ipython",
    "version": 3
   },
   "file_extension": ".py",
   "mimetype": "text/x-python",
   "name": "python",
   "nbconvert_exporter": "python",
   "pygments_lexer": "ipython3",
   "version": "3.9.13"
  },
  "orig_nbformat": 4
 },
 "nbformat": 4,
 "nbformat_minor": 2
}
